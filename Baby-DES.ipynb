{
 "cells": [
  {
   "cell_type": "code",
   "execution_count": 1,
   "metadata": {},
   "outputs": [],
   "source": [
    "import numpy as np"
   ]
  },
  {
   "cell_type": "markdown",
   "metadata": {},
   "source": [
    "# Defining global variables"
   ]
  },
  {
   "cell_type": "code",
   "execution_count": 8,
   "metadata": {},
   "outputs": [],
   "source": [
    "#For testing purposes\n",
    "\n",
    "KEY = ''\n",
    "MESSAGE = ''"
   ]
  },
  {
   "attachments": {},
   "cell_type": "markdown",
   "metadata": {},
   "source": [
    "![title](img/sbox.png)"
   ]
  },
  {
   "cell_type": "code",
   "execution_count": 7,
   "metadata": {},
   "outputs": [],
   "source": [
    "sbox1 = [['101', '010', '001', '110', '011', '100', '111', '000'],\n",
    "         ['001', '100', '110', '010', '000', '111', '101', '011']]\n",
    "\n",
    "sbox2 = [['100', '000', '110', '101', '111', '001', '011', '010'],\n",
    "         ['101', '011', '000', '111', '110', '010', '001', '100']]"
   ]
  },
  {
   "cell_type": "markdown",
   "metadata": {},
   "source": [
    "Helper functions"
   ]
  },
  {
   "cell_type": "code",
   "execution_count": 27,
   "metadata": {},
   "outputs": [],
   "source": [
    "def xOR(Y, K):\n",
    "    res = ''\n",
    "    n = len(Y)\n",
    "    for i in range(n):\n",
    "        res += str(int(Y[i]) ^ int(K[i]))\n",
    "\n",
    "    return res"
   ]
  },
  {
   "cell_type": "markdown",
   "metadata": {},
   "source": [
    "# Round functions"
   ]
  },
  {
   "cell_type": "markdown",
   "metadata": {},
   "source": [
    "![ith Round of DES](img/round.png)"
   ]
  },
  {
   "cell_type": "markdown",
   "metadata": {},
   "source": [
    "## Expand function"
   ]
  },
  {
   "cell_type": "markdown",
   "metadata": {},
   "source": [
    "![The Expander Function](img/expander_func.png)"
   ]
  },
  {
   "cell_type": "code",
   "execution_count": 18,
   "metadata": {},
   "outputs": [],
   "source": [
    "def expander(X):\n",
    "    mapdict = {1: 1, 2: 2, 3: 4, 4: 3, 5: 4, 6: 3, 7: 5, 8: 6}\n",
    "    expandedX = ['0'] * 8\n",
    "\n",
    "    for i in mapdict.keys():\n",
    "        expandedX[i - 1] = X[mapdict[i] - 1]\n",
    "\n",
    "    return \"\".join(expandedX)"
   ]
  },
  {
   "cell_type": "markdown",
   "metadata": {},
   "source": [
    "## Substitution using $S_1$ and $S_2$"
   ]
  },
  {
   "cell_type": "code",
   "execution_count": 25,
   "metadata": {},
   "outputs": [],
   "source": [
    "def substitution(X):\n",
    "    X1 = X[:4]\n",
    "    X2 = X[4:]\n",
    "\n",
    "    Sub1 = sbox1[int(X1[0])][int(X1[1:], 2)]\n",
    "    Sub2 = sbox2[int(X2[0])][int(X2[1:], 2)]\n",
    "\n",
    "    return Sub1 + Sub2"
   ]
  },
  {
   "cell_type": "markdown",
   "metadata": {},
   "source": [
    "## $f(R_{i-1},K_i)$"
   ]
  },
  {
   "cell_type": "code",
   "execution_count": 51,
   "metadata": {},
   "outputs": [],
   "source": [
    "def f(R, K):\n",
    "\n",
    "    try:\n",
    "        assert (len(R) == 6)\n",
    "    except:\n",
    "        raise (AssertionError(\"Length of Ri is not 6 bits!\"))\n",
    "\n",
    "    try:\n",
    "        assert (len(K) == 8)\n",
    "    except:\n",
    "        raise (AssertionError(\"Length of Ki is not 8 bits!\"))\n",
    "\n",
    "    expandedR = expander(R)\n",
    "    XORed = xOR(expandedR, K)\n",
    "    return substitution(XORed)"
   ]
  },
  {
   "cell_type": "markdown",
   "metadata": {},
   "source": [
    "## Round keys"
   ]
  },
  {
   "cell_type": "code",
   "execution_count": 87,
   "metadata": {},
   "outputs": [],
   "source": [
    "def roundkey(K, i):\n",
    "\n",
    "    K2 = K[0:i - 1]\n",
    "    K1 = K[i - 1:]\n",
    "\n",
    "    return (K1 + K2)[:-1]"
   ]
  },
  {
   "cell_type": "code",
   "execution_count": 119,
   "metadata": {},
   "outputs": [],
   "source": [
    "def inv_roundkey(K, i, rounds):\n",
    "\n",
    "    K2 = K[0:rounds - i]\n",
    "    K1 = K[rounds - i:]\n",
    "\n",
    "    return (K1 + K2)[:-1]"
   ]
  },
  {
   "cell_type": "markdown",
   "metadata": {},
   "source": [
    "# Implementing DES"
   ]
  },
  {
   "cell_type": "markdown",
   "metadata": {},
   "source": [
    "!['One Round of a Feistel System'](img/ith-round.png)"
   ]
  },
  {
   "cell_type": "markdown",
   "metadata": {},
   "source": [
    "## Encryption"
   ]
  },
  {
   "cell_type": "code",
   "execution_count": 146,
   "metadata": {},
   "outputs": [],
   "source": [
    "def encrypt(message, key, rounds=4):\n",
    "    try:\n",
    "        assert (len(message) == 12)\n",
    "    except:\n",
    "        raise (AssertionError(\"Input message length should be 12 bits!\"))\n",
    "\n",
    "    try:\n",
    "        assert (len(key) == 9)\n",
    "    except:\n",
    "        raise (AssertionError(\"Key length should be 9 bits!\"))\n",
    "\n",
    "    out = message\n",
    "\n",
    "    for i in range(1, rounds + 1):\n",
    "        L_prev = out[:6]\n",
    "        R_prev = out[6:]\n",
    "\n",
    "        Ki = roundkey(key, i)\n",
    "        print(\"L\" + str(i - 1) + \" :\", L_prev)\n",
    "        print(\"R\" + str(i - 1) + \" :\", R_prev)\n",
    "        print(\"K\" + str(i) + \" :\", Ki)\n",
    "        print()\n",
    "        out = R_prev + xOR(L_prev, f(R_prev, Ki))\n",
    "\n",
    "    print(\"L\" + str(i) + \" :\", out[:6])\n",
    "    print(\"R\" + str(i) + \" :\", out[6:])\n",
    "\n",
    "    return out[6:] + out[:6]"
   ]
  },
  {
   "cell_type": "code",
   "execution_count": 147,
   "metadata": {},
   "outputs": [
    {
     "name": "stdout",
     "output_type": "stream",
     "text": [
      "L0 : 100010\n",
      "R0 : 110101\n",
      "K1 : 11100011\n",
      "\n",
      "L1 : 110101\n",
      "R1 : 001010\n",
      "K2 : 11000111\n",
      "\n",
      "L2 : 001010\n",
      "R2 : 001101\n"
     ]
    },
    {
     "data": {
      "text/plain": [
       "'001101001010'"
      ]
     },
     "execution_count": 147,
     "metadata": {},
     "output_type": "execute_result"
    }
   ],
   "source": [
    "encrypt('100010110101','111000111',rounds=2)"
   ]
  },
  {
   "cell_type": "markdown",
   "metadata": {},
   "source": [
    "## Decryption"
   ]
  },
  {
   "cell_type": "code",
   "execution_count": 140,
   "metadata": {},
   "outputs": [],
   "source": [
    "def decrypt(cipher, key, rounds=4):\n",
    "    try:\n",
    "        assert (len(cipher) == 12)\n",
    "    except:\n",
    "        raise (AssertionError(\"Input ciphertext length should be 12 bits!\"))\n",
    "\n",
    "    try:\n",
    "        assert (len(key) == 9)\n",
    "    except:\n",
    "        raise (AssertionError(\"Key length should be 9 bits!\"))\n",
    "\n",
    "    out = cipher\n",
    "\n",
    "    for i in range(1, rounds + 1):\n",
    "        L_prev = out[:6]\n",
    "        R_prev = out[6:]\n",
    "\n",
    "        Ki = inv_roundkey(key, i, rounds)\n",
    "        print(\"L\" + str(i - 1) + \" :\", L_prev)\n",
    "        print(\"R\" + str(i - 1) + \" :\", R_prev)\n",
    "        print(\"K\" + str(rounds - i + 1) + \" :\", Ki)\n",
    "        print()\n",
    "        out = R_prev + xOR(L_prev, f(R_prev, Ki))\n",
    "\n",
    "    print(\"L\" + str(i) + \" :\", out[:6])\n",
    "    print(\"R\" + str(i) + \" :\", out[6:])\n",
    "    return out[6:] + out[:6]"
   ]
  },
  {
   "cell_type": "code",
   "execution_count": 141,
   "metadata": {},
   "outputs": [
    {
     "name": "stdout",
     "output_type": "stream",
     "text": [
      "L0 : 001101\n",
      "R0 : 001010\n",
      "K2 : 11000111\n",
      "\n",
      "L1 : 001010\n",
      "R1 : 110101\n",
      "K1 : 11100011\n",
      "\n",
      "L2 : 110101\n",
      "R2 : 100010\n"
     ]
    },
    {
     "data": {
      "text/plain": [
       "'100010110101'"
      ]
     },
     "execution_count": 141,
     "metadata": {},
     "output_type": "execute_result"
    }
   ],
   "source": [
    "decrypt('001101001010','111000111',rounds=2)"
   ]
  }
 ],
 "metadata": {
  "kernelspec": {
   "display_name": "Python 3",
   "language": "python",
   "name": "python3"
  },
  "language_info": {
   "codemirror_mode": {
    "name": "ipython",
    "version": 3
   },
   "file_extension": ".py",
   "mimetype": "text/x-python",
   "name": "python",
   "nbconvert_exporter": "python",
   "pygments_lexer": "ipython3",
   "version": "3.9.0"
  },
  "latex_envs": {
   "LaTeX_envs_menu_present": true,
   "autoclose": false,
   "autocomplete": true,
   "bibliofile": "biblio.bib",
   "cite_by": "apalike",
   "current_citInitial": 1,
   "eqLabelWithNumbers": true,
   "eqNumInitial": 1,
   "hotkeys": {
    "equation": "Ctrl-E",
    "itemize": "Ctrl-I"
   },
   "labels_anchors": false,
   "latex_user_defs": false,
   "report_style_numbering": false,
   "user_envs_cfg": false
  },
  "toc": {
   "base_numbering": 1,
   "nav_menu": {},
   "number_sections": true,
   "sideBar": true,
   "skip_h1_title": false,
   "title_cell": "Table of Contents",
   "title_sidebar": "Contents",
   "toc_cell": false,
   "toc_position": {},
   "toc_section_display": true,
   "toc_window_display": false
  },
  "varInspector": {
   "cols": {
    "lenName": 16,
    "lenType": 16,
    "lenVar": 40
   },
   "kernels_config": {
    "python": {
     "delete_cmd_postfix": "",
     "delete_cmd_prefix": "del ",
     "library": "var_list.py",
     "varRefreshCmd": "print(var_dic_list())"
    },
    "r": {
     "delete_cmd_postfix": ") ",
     "delete_cmd_prefix": "rm(",
     "library": "var_list.r",
     "varRefreshCmd": "cat(var_dic_list()) "
    }
   },
   "types_to_exclude": [
    "module",
    "function",
    "builtin_function_or_method",
    "instance",
    "_Feature"
   ],
   "window_display": false
  }
 },
 "nbformat": 4,
 "nbformat_minor": 4
}
